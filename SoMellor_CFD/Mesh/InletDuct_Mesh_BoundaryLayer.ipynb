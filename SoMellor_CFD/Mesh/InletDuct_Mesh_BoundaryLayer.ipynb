{
 "cells": [
  {
   "cell_type": "code",
   "execution_count": 1,
   "id": "ba2ef097-3a25-4b38-914f-3902bf8cd63f",
   "metadata": {},
   "outputs": [],
   "source": [
    "import gmsh\n",
    "\n",
    "# Initialize Gmsh\n",
    "gmsh.initialize()\n"
   ]
  },
  {
   "cell_type": "code",
   "execution_count": 2,
   "id": "667d2424-57aa-4f8a-9d4c-b41b85164818",
   "metadata": {},
   "outputs": [],
   "source": [
    "# Import the STEP file\n",
    "geom_file = r\"../Geometry/Test Geometry - 2D Inlet Section Geometry.step\"\n",
    "gmsh.model.occ.importShapes( geom_file )\n",
    "gmsh.model.occ.synchronize()\n"
   ]
  },
  {
   "cell_type": "code",
   "execution_count": 3,
   "id": "1da4e84b-8287-483c-b22f-8bbfdce3f8e2",
   "metadata": {},
   "outputs": [],
   "source": [
    "# Define mesh sizes\n",
    "lc = 10\n",
    "boundary_lc = 0.1\n",
    "refinement_thickness = 0.1  # Thickness of the boundary layer\n"
   ]
  },
  {
   "cell_type": "code",
   "execution_count": 4,
   "id": "96d12107-ecc8-45b4-ba7f-1a6b6b01e7f2",
   "metadata": {},
   "outputs": [],
   "source": [
    "# To determine the size of mesh elements, Gmsh locally computes the minimum of\n",
    "#\n",
    "# 1) the size of the model bounding box;\n",
    "# 2) if `Mesh.MeshSizeFromPoints' is set, the mesh size specified at geometrical\n",
    "#    points;\n",
    "# 3) if `Mesh.MeshSizeFromCurvature' is positive, the mesh size based on\n",
    "#    curvature (the value specifying the number of elements per 2 * pi rad);\n",
    "# 4) the background mesh size field;\n",
    "# 5) any per-entity mesh size constraint;\n",
    "#\n",
    "# The value can then be further modified by the mesh size callback, if any,\n",
    "# before being constrained in the interval [`Mesh.MeshSizeMin',\n",
    "# `Mesh.MeshSizeMax'] and multiplied by `Mesh.MeshSizeFactor'.  In addition,\n",
    "# boundary mesh sizes are interpolated inside surfaces and/or volumes depending\n",
    "# on the value of `Mesh.MeshSizeExtendFromBoundary' (which is set by default).\n",
    "#\n",
    "# When the element size is fully specified by a mesh size field (as it is in\n",
    "# this example), it is thus often desirable to set\n",
    "\n",
    "gmsh.option.setNumber(\"Mesh.MeshSizeExtendFromBoundary\", 0)\n",
    "gmsh.option.setNumber(\"Mesh.MeshSizeFromPoints\", 0)\n",
    "gmsh.option.setNumber(\"Mesh.MeshSizeFromCurvature\", 0)\n",
    "gmsh.option.setNumber(\"Mesh.CharacteristicLengthMax\", lc)\n"
   ]
  },
  {
   "cell_type": "code",
   "execution_count": 5,
   "id": "230e8127-0f72-44b5-9c1f-14fb39264102",
   "metadata": {},
   "outputs": [],
   "source": [
    "# We could also use a `Box' field to impose a step change in element sizes\n",
    "# inside a box\n",
    "gmsh.model.mesh.field.add(\"Distance\", 1)\n",
    "gmsh.model.mesh.field.setNumbers(1, \"CurvesList\", [1])\n"
   ]
  },
  {
   "cell_type": "code",
   "execution_count": 6,
   "id": "54a3d5a1-9c47-499f-8055-351860c8dafa",
   "metadata": {},
   "outputs": [],
   "source": [
    "# Generate the 2D mesh\n",
    "gmsh.model.mesh.generate(2)\n"
   ]
  },
  {
   "cell_type": "code",
   "execution_count": 7,
   "id": "ca0dad0d-64fb-46d0-b957-40e85d53dea2",
   "metadata": {},
   "outputs": [],
   "source": [
    "# Save the mesh in OpenFOAM format\n",
    "gmsh.write(\"duct.msh\")\n",
    "\n",
    "# View the mesh\n",
    "gmsh.fltk.run()\n",
    "\n",
    "# Finalize Gmsh\n",
    "gmsh.finalize()\n"
   ]
  },
  {
   "cell_type": "code",
   "execution_count": null,
   "id": "8672a70c-b652-4fb5-a2f6-f12698a1dfe4",
   "metadata": {},
   "outputs": [],
   "source": []
  }
 ],
 "metadata": {
  "kernelspec": {
   "display_name": "Python 3 (ipykernel)",
   "language": "python",
   "name": "python3"
  },
  "language_info": {
   "codemirror_mode": {
    "name": "ipython",
    "version": 3
   },
   "file_extension": ".py",
   "mimetype": "text/x-python",
   "name": "python",
   "nbconvert_exporter": "python",
   "pygments_lexer": "ipython3",
   "version": "3.10.14"
  }
 },
 "nbformat": 4,
 "nbformat_minor": 5
}
