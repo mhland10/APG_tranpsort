{
 "cells": [
  {
   "cell_type": "code",
   "execution_count": 1,
   "id": "cb60b04d-2990-4fb7-8fb3-f6d2fd513785",
   "metadata": {},
   "outputs": [],
   "source": [
    "# ------------------------------------------------------------------------------\n",
    "#\n",
    "#  Gmsh Python tutorial 10\n",
    "#\n",
    "#  Mesh size fields\n",
    "#\n",
    "# ------------------------------------------------------------------------------\n",
    "\n",
    "# In addition to specifying target mesh sizes at the points of the geometry (see\n",
    "# `t1.py') or using a background mesh (see `t7.py'), you can use general mesh\n",
    "# size \"Fields\".\n",
    "\n",
    "import gmsh\n",
    "import sys\n",
    "\n",
    "gmsh.initialize(sys.argv)\n",
    "\n",
    "gmsh.model.add(\"t10\")\n"
   ]
  },
  {
   "cell_type": "code",
   "execution_count": 2,
   "id": "80028d4a-94b3-426e-978d-85c1540fbc32",
   "metadata": {},
   "outputs": [],
   "source": [
    "# Let's create a simple rectangular geometry:\n",
    "lc = 0.5\n",
    "gmsh.model.geo.addPoint(0.0, 0.0, 0, lc, 1)\n",
    "gmsh.model.geo.addPoint(1, 0.0, 0, lc, 2)\n",
    "gmsh.model.geo.addPoint(1, 1, 0, lc, 3)\n",
    "gmsh.model.geo.addPoint(0, 1, 0, lc, 4)\n",
    "gmsh.model.geo.addPoint(0.2, .5, 0, lc, 5)\n",
    "\n",
    "gmsh.model.geo.addLine(1, 2, 1)\n",
    "gmsh.model.geo.addLine(2, 3, 2)\n",
    "gmsh.model.geo.addLine(3, 4, 3)\n",
    "gmsh.model.geo.addLine(4, 1, 4)\n",
    "\n",
    "gmsh.model.geo.addCurveLoop([1, 2, 3, 4], 5)\n",
    "gmsh.model.geo.addPlaneSurface([5], 6)\n",
    "\n",
    "gmsh.model.geo.synchronize()\n"
   ]
  },
  {
   "cell_type": "code",
   "execution_count": 3,
   "id": "f83178e7-c467-402c-b7d1-724d21201b2d",
   "metadata": {},
   "outputs": [],
   "source": [
    "# Say we would like to obtain mesh elements with size lc/30 near curve 2 and\n",
    "# point 5, and size lc elsewhere. To achieve this, we can use two fields:\n",
    "# \"Distance\", and \"Threshold\". We first define a Distance field (`Field[1]') on\n",
    "# points 5 and on curve 2. This field returns the distance to point 5 and to\n",
    "# (100 equidistant points on) curve 2.\n",
    "gmsh.model.mesh.field.add(\"Distance\", 1)\n",
    "gmsh.model.mesh.field.setNumbers(1, \"PointsList\", [5])\n",
    "gmsh.model.mesh.field.setNumbers(1, \"CurvesList\", [2])\n",
    "gmsh.model.mesh.field.setNumber(1, \"Sampling\", 100)\n"
   ]
  },
  {
   "cell_type": "code",
   "execution_count": 4,
   "id": "5e2a9f46-f354-4c43-b447-0fb4030ab556",
   "metadata": {},
   "outputs": [],
   "source": [
    "# We then define a `Threshold' field, which uses the return value of the\n",
    "# `Distance' field 1 in order to define a simple change in element size\n",
    "# depending on the computed distances\n",
    "#\n",
    "# SizeMax -                     /------------------\n",
    "#                              /\n",
    "#                             /\n",
    "#                            /\n",
    "# SizeMin -o----------------/\n",
    "#          |                |    |\n",
    "#        Point         DistMin  DistMax\n",
    "gmsh.model.mesh.field.add(\"Threshold\", 2)\n",
    "gmsh.model.mesh.field.setNumber(2, \"InField\", 1)\n",
    "gmsh.model.mesh.field.setNumber(2, \"SizeMin\", lc / 30 )\n",
    "gmsh.model.mesh.field.setNumber(2, \"SizeMax\", 10 * lc )\n",
    "gmsh.model.mesh.field.setNumber(2, \"DistMin\", lc )\n",
    "gmsh.model.mesh.field.setNumber(2, \"DistMax\", 10 * lc )\n"
   ]
  },
  {
   "cell_type": "markdown",
   "id": "f772d755-981c-4db4-9a8c-867cf4e09f05",
   "metadata": {},
   "source": [
    "# Say we want to modulate the mesh element sizes using a mathematical function\n",
    "# of the spatial coordinates. We can do this with the MathEval field:\n",
    "gmsh.model.mesh.field.add(\"MathEval\", 3)\n",
    "gmsh.model.mesh.field.setString(3, \"F\",\n",
    "                                \"cos(4*3.14*x) * sin(4*3.14*y) / 10 + 0.101\")\n"
   ]
  },
  {
   "cell_type": "markdown",
   "id": "57923997-c3fe-4a15-8756-c71d105e3c90",
   "metadata": {},
   "source": [
    "# We could also combine MathEval with values coming from other fields. For\n",
    "# example, let's define a `Distance' field around point 1\n",
    "gmsh.model.mesh.field.add(\"Distance\", 4)\n",
    "gmsh.model.mesh.field.setNumbers(4, \"PointsList\", [1])\n"
   ]
  },
  {
   "cell_type": "markdown",
   "id": "0f724098-2b54-4d53-8320-85e44e3eecd2",
   "metadata": {},
   "source": [
    "# We can then create a `MathEval' field with a function that depends on the\n",
    "# return value of the `Distance' field 4, i.e., depending on the distance to\n",
    "# point 1 (here using a cubic law, with minimum element size = lc / 100)\n",
    "gmsh.model.mesh.field.add(\"MathEval\", 5)\n",
    "gmsh.model.mesh.field.setString(5, \"F\", \"F4^3 + \" + str(lc / 100))\n"
   ]
  },
  {
   "cell_type": "markdown",
   "id": "8e3e82d0-809d-4339-87a1-90a13ad921a5",
   "metadata": {},
   "source": [
    "# We could also use a `Box' field to impose a step change in element sizes\n",
    "# inside a box\n",
    "gmsh.model.mesh.field.add(\"Box\", 6)\n",
    "gmsh.model.mesh.field.setNumber(6, \"VIn\", lc / 15)\n",
    "gmsh.model.mesh.field.setNumber(6, \"VOut\", lc)\n",
    "gmsh.model.mesh.field.setNumber(6, \"XMin\", 0.3)\n",
    "gmsh.model.mesh.field.setNumber(6, \"XMax\", 0.6)\n",
    "gmsh.model.mesh.field.setNumber(6, \"YMin\", 0.3)\n",
    "gmsh.model.mesh.field.setNumber(6, \"YMax\", 0.6)\n",
    "gmsh.model.mesh.field.setNumber(6, \"Thickness\", 0.3)\n"
   ]
  },
  {
   "cell_type": "markdown",
   "id": "13abb002-222b-46fd-895a-25d0db8ea226",
   "metadata": {},
   "source": [
    "# Many other types of fields are available: see the reference manual for a\n",
    "# complete list. You can also create fields directly in the graphical user\n",
    "# interface by selecting `Define->Size fields' in the `Mesh' module.\n",
    "\n",
    "# Let's use the minimum of all the fields as the mesh size field:\n",
    "gmsh.model.mesh.field.add(\"Min\", 7)\n",
    "gmsh.model.mesh.field.setNumbers(7, \"FieldsList\", [2, 3, 5, 6])\n",
    "\n",
    "gmsh.model.mesh.field.setAsBackgroundMesh(7)\n"
   ]
  },
  {
   "cell_type": "code",
   "execution_count": 5,
   "id": "84c29436-96ac-4e8b-b4e9-c8024f4b4bc2",
   "metadata": {},
   "outputs": [],
   "source": [
    "# The API also allows to set a global mesh size callback, which is called each\n",
    "# time the mesh size is queried\n",
    "def meshSizeCallback(dim, tag, x, y, z, lc):\n",
    "    return min(lc, 0.02 * x + 0.01)\n",
    "    #return lc\n",
    "\n",
    "gmsh.model.mesh.setSizeCallback(meshSizeCallback)\n",
    "#gmsh.model.mesh.setSizeCallback(lc)"
   ]
  },
  {
   "cell_type": "code",
   "execution_count": 6,
   "id": "b5b2d1f9-079f-4247-b212-06399d5f94b4",
   "metadata": {},
   "outputs": [],
   "source": [
    "# To determine the size of mesh elements, Gmsh locally computes the minimum of\n",
    "#\n",
    "# 1) the size of the model bounding box;\n",
    "# 2) if `Mesh.MeshSizeFromPoints' is set, the mesh size specified at geometrical\n",
    "#    points;\n",
    "# 3) if `Mesh.MeshSizeFromCurvature' is positive, the mesh size based on\n",
    "#    curvature (the value specifying the number of elements per 2 * pi rad);\n",
    "# 4) the background mesh size field;\n",
    "# 5) any per-entity mesh size constraint;\n",
    "#\n",
    "# The value can then be further modified by the mesh size callback, if any,\n",
    "# before being constrained in the interval [`Mesh.MeshSizeMin',\n",
    "# `Mesh.MeshSizeMax'] and multiplied by `Mesh.MeshSizeFactor'.  In addition,\n",
    "# boundary mesh sizes are interpolated inside surfaces and/or volumes depending\n",
    "# on the value of `Mesh.MeshSizeExtendFromBoundary' (which is set by default).\n",
    "#\n",
    "# When the element size is fully specified by a mesh size field (as it is in\n",
    "# this example), it is thus often desirable to set\n",
    "\n",
    "gmsh.option.setNumber(\"Mesh.MeshSizeExtendFromBoundary\", 0)\n",
    "gmsh.option.setNumber(\"Mesh.MeshSizeFromPoints\", 0)\n",
    "gmsh.option.setNumber(\"Mesh.MeshSizeFromCurvature\", 0)\n",
    "\n"
   ]
  },
  {
   "cell_type": "code",
   "execution_count": 7,
   "id": "ba990f55-c17d-40cd-a11f-8d6b99fce82b",
   "metadata": {},
   "outputs": [],
   "source": [
    "# This will prevent over-refinement due to small mesh sizes on the boundary.\n",
    "\n",
    "# Finally, while the default \"Frontal-Delaunay\" 2D meshing algorithm\n",
    "# (Mesh.Algorithm = 6) usually leads to the highest quality meshes, the\n",
    "# \"Delaunay\" algorithm (Mesh.Algorithm = 5) will handle complex mesh size fields\n",
    "# better - in particular size fields with large element size gradients:\n",
    "\n",
    "gmsh.option.setNumber(\"Mesh.Algorithm\", 5)\n",
    "\n",
    "gmsh.model.mesh.generate(2)\n"
   ]
  },
  {
   "cell_type": "code",
   "execution_count": null,
   "id": "a935dc48-e7db-4a09-a5cc-d05cff75bb1a",
   "metadata": {},
   "outputs": [],
   "source": [
    "gmsh.write(\"t10.msh\")\n",
    "\n",
    "# Launch the GUI to see the results:\n",
    "if '-nopopup' not in sys.argv:\n",
    "    gmsh.fltk.run()\n",
    "\n",
    "gmsh.finalize()\n"
   ]
  }
 ],
 "metadata": {
  "kernelspec": {
   "display_name": "Python 3 (ipykernel)",
   "language": "python",
   "name": "python3"
  },
  "language_info": {
   "codemirror_mode": {
    "name": "ipython",
    "version": 3
   },
   "file_extension": ".py",
   "mimetype": "text/x-python",
   "name": "python",
   "nbconvert_exporter": "python",
   "pygments_lexer": "ipython3",
   "version": "3.10.14"
  }
 },
 "nbformat": 4,
 "nbformat_minor": 5
}
