{
 "cells": [
  {
   "cell_type": "code",
   "execution_count": 1,
   "id": "ba2ef097-3a25-4b38-914f-3902bf8cd63f",
   "metadata": {},
   "outputs": [],
   "source": [
    "import gmsh\n",
    "import numpy as np\n",
    "\n",
    "# Initialize Gmsh\n",
    "gmsh.initialize()\n"
   ]
  },
  {
   "cell_type": "code",
   "execution_count": 2,
   "id": "667d2424-57aa-4f8a-9d4c-b41b85164818",
   "metadata": {},
   "outputs": [],
   "source": [
    "# Import the STEP file\n",
    "geom_file = r\"../Geometry/Test Geometry - 2D Inlet Section Geometry.step\"\n",
    "gmsh.open( geom_file )\n",
    "\n",
    "# Synchronize the geometry\n",
    "gmsh.model.geo.synchronize()\n"
   ]
  },
  {
   "cell_type": "code",
   "execution_count": 3,
   "id": "3fb3fe15-b900-4b62-8419-46e1b0883622",
   "metadata": {},
   "outputs": [],
   "source": [
    "mesh_size = 1\n",
    "\n",
    "# Parameters for boundary layer extrusion\n",
    "num_layers = 10       # Number of layers\n",
    "first_layer_thickness = 0.01  # Thickness of the first layer\n",
    "growth_rate = 1.2  # Growth rate of the layers\n"
   ]
  },
  {
   "cell_type": "code",
   "execution_count": 4,
   "id": "a6721ae9-3070-4faf-ab5f-42d2b07960ae",
   "metadata": {},
   "outputs": [],
   "source": [
    "# Define a new mesh field for boundary layers\n",
    "boundary_layer_field = gmsh.model.mesh.field.add(\"BoundaryLayer\")\n",
    "#gmsh.model.mesh.field.setNumber(boundary_layer_field, \"hfar\", 1)        # Mesh size far from the wall\n",
    "gmsh.model.mesh.field.setNumber(boundary_layer_field, \"hwall_n\", 0.1)    # First layer height\n",
    "gmsh.model.mesh.field.setNumber(boundary_layer_field, \"thickness\", 10)  # Total thickness of boundary layers\n",
    "gmsh.model.mesh.field.setNumber(boundary_layer_field, \"ratio\", 2)       # Growth rate for subsequent layers\n",
    "gmsh.model.mesh.field.setNumber(boundary_layer_field, \"Quads\" , 10 )\n",
    "\n",
    "# List of boundary edges for the boundary layer field (replace with correct edges)\n",
    "edges = gmsh.model.getEntities(dim=1)  # Get all edges\n",
    "\n",
    "# Set the edges for the boundary layer field\n",
    "gmsh.model.mesh.field.setNumbers(boundary_layer_field, \"CurvesList\", [ 1 , 2 , 3 , 4 ])\n",
    "\n",
    "# Apply the boundary layer field\n",
    "gmsh.model.mesh.field.setAsBoundaryLayer(boundary_layer_field)\n",
    "#\"\"\"\n"
   ]
  },
  {
   "cell_type": "code",
   "execution_count": 5,
   "id": "88bc196c-03b7-4bca-9e08-cd88ebb7a0d7",
   "metadata": {},
   "outputs": [],
   "source": [
    "# Define the curve (replace with your actual curve ID)\n",
    "curve_id = 1  # Replace with the actual curve ID you want to refine\n",
    "\n",
    "# Define a mesh field to control the number of elements along the curve\n",
    "mesh_size_field = gmsh.model.mesh.field.add(\"Box\")\n",
    "gmsh.model.mesh.field.setNumber( mesh_size_field , \"VIn\", mesh_size )\n",
    "gmsh.model.mesh.field.setNumber( mesh_size_field , \"VOut\", 10 * mesh_size )\n",
    "gmsh.model.mesh.field.setNumber( mesh_size_field , \"XMin\", -10 )\n",
    "gmsh.model.mesh.field.setNumber( mesh_size_field , \"XMax\", 0.1 )\n",
    "gmsh.model.mesh.field.setNumber( mesh_size_field , \"YMin\", -10 )\n",
    "gmsh.model.mesh.field.setNumber( mesh_size_field , \"YMax\", 0.1 )\n",
    "gmsh.model.mesh.field.setNumber( mesh_size_field , \"Thickness\", 0.3)\n"
   ]
  },
  {
   "cell_type": "code",
   "execution_count": 6,
   "id": "eb42e07f-c6f4-4690-922f-cca7f895ada9",
   "metadata": {},
   "outputs": [],
   "source": [
    "# Apply the mesh size field\n",
    "gmsh.model.mesh.field.setAsBackgroundMesh(mesh_size_field)\n"
   ]
  },
  {
   "cell_type": "code",
   "execution_count": 7,
   "id": "8672a70c-b652-4fb5-a2f6-f12698a1dfe4",
   "metadata": {},
   "outputs": [],
   "source": [
    "# Define mesh size for specific points (optional)\n",
    "#gmsh.model.mesh.setSize(gmsh.model.getEntities(0), mesh_size)  # Here, '0' indicates points (vertices)\n",
    "\n",
    "# Alternatively, define mesh size at boundaries (edges)\n",
    "#gmsh.model.mesh.setSize(gmsh.model.getEntities(1), mesh_size)  # Here, '1' indicates curves (edges)\n"
   ]
  },
  {
   "cell_type": "code",
   "execution_count": 8,
   "id": "e6855b0a-5b1a-4319-b488-41f9d3e3a640",
   "metadata": {},
   "outputs": [],
   "source": [
    "gmsh.model.mesh.generate(2)  # '2' for a 2D mesh'\n"
   ]
  },
  {
   "cell_type": "code",
   "execution_count": 9,
   "id": "0e422e77-b349-44a9-854e-8a92cf134451",
   "metadata": {},
   "outputs": [],
   "source": [
    "# View the mesh\n",
    "gmsh.fltk.run()\n",
    "\n",
    "gmsh.write('duct_mesh.msh')\n",
    "\n",
    "# Finalize Gmsh\n",
    "gmsh.finalize()\n"
   ]
  },
  {
   "cell_type": "code",
   "execution_count": null,
   "id": "7ebd4cbf-987b-4c3f-9633-38945ddaf9f6",
   "metadata": {},
   "outputs": [],
   "source": []
  }
 ],
 "metadata": {
  "kernelspec": {
   "display_name": "Python 3 (ipykernel)",
   "language": "python",
   "name": "python3"
  },
  "language_info": {
   "codemirror_mode": {
    "name": "ipython",
    "version": 3
   },
   "file_extension": ".py",
   "mimetype": "text/x-python",
   "name": "python",
   "nbconvert_exporter": "python",
   "pygments_lexer": "ipython3",
   "version": "3.10.14"
  }
 },
 "nbformat": 4,
 "nbformat_minor": 5
}
