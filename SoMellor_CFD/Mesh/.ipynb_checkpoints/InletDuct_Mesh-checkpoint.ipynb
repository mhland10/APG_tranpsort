{
 "cells": [
  {
   "cell_type": "code",
   "execution_count": 1,
   "id": "ba2ef097-3a25-4b38-914f-3902bf8cd63f",
   "metadata": {},
   "outputs": [],
   "source": [
    "import gmsh\n",
    "\n",
    "# Initialize Gmsh\n",
    "gmsh.initialize()\n"
   ]
  },
  {
   "cell_type": "code",
   "execution_count": 2,
   "id": "667d2424-57aa-4f8a-9d4c-b41b85164818",
   "metadata": {},
   "outputs": [],
   "source": [
    "# Import the STEP file\n",
    "geom_file = r\"../Geometry/Test Geometry - 2D Inlet Section Geometry.step\"\n",
    "gmsh.model.occ.importShapes( geom_file )\n",
    "gmsh.model.occ.synchronize()\n"
   ]
  },
  {
   "cell_type": "code",
   "execution_count": 3,
   "id": "6072640a-26cd-44a3-b199-05abb13b36f7",
   "metadata": {},
   "outputs": [],
   "source": [
    "# Define mesh size\n",
    "lc = 1.0  # characteristic length for mesh size\n",
    "gmsh.option.setNumber(\"Mesh.CharacteristicLengthMin\", lc)\n",
    "gmsh.option.setNumber(\"Mesh.CharacteristicLengthMax\", lc)\n"
   ]
  },
  {
   "cell_type": "code",
   "execution_count": 4,
   "id": "9c53b771-1e72-4f13-9fe3-dc52a412ab2f",
   "metadata": {},
   "outputs": [],
   "source": [
    "# Generate the 2D mesh\n",
    "gmsh.model.mesh.generate(2)\n"
   ]
  },
  {
   "cell_type": "code",
   "execution_count": 5,
   "id": "b833d653-7483-4559-a0b0-d077c1777f8a",
   "metadata": {},
   "outputs": [],
   "source": [
    "# Save the mesh in OpenFOAM format\n",
    "gmsh.write(\"duct.msh\")\n",
    "\n",
    "# View the mesh\n",
    "gmsh.fltk.run()\n",
    "\n",
    "# Finalize Gmsh\n",
    "gmsh.finalize()\n"
   ]
  },
  {
   "cell_type": "code",
   "execution_count": null,
   "id": "1da4e84b-8287-483c-b22f-8bbfdce3f8e2",
   "metadata": {},
   "outputs": [],
   "source": []
  }
 ],
 "metadata": {
  "kernelspec": {
   "display_name": "Python 3 (ipykernel)",
   "language": "python",
   "name": "python3"
  },
  "language_info": {
   "codemirror_mode": {
    "name": "ipython",
    "version": 3
   },
   "file_extension": ".py",
   "mimetype": "text/x-python",
   "name": "python",
   "nbconvert_exporter": "python",
   "pygments_lexer": "ipython3",
   "version": "3.10.14"
  }
 },
 "nbformat": 4,
 "nbformat_minor": 5
}
