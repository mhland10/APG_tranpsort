{
 "cells": [
  {
   "cell_type": "code",
   "execution_count": 1,
   "id": "ba2ef097-3a25-4b38-914f-3902bf8cd63f",
   "metadata": {},
   "outputs": [],
   "source": [
    "import gmsh\n",
    "import numpy as np\n",
    "\n",
    "# Initialize Gmsh\n",
    "gmsh.initialize()\n"
   ]
  },
  {
   "cell_type": "code",
   "execution_count": 2,
   "id": "667d2424-57aa-4f8a-9d4c-b41b85164818",
   "metadata": {},
   "outputs": [],
   "source": [
    "# Import the STEP file\n",
    "geom_file = r\"../Geometry/Test Geometry - 2D Inlet Section Geometry.step\"\n",
    "gmsh.open( geom_file )\n",
    "\n",
    "# Synchronize the geometry\n",
    "gmsh.model.geo.synchronize()\n"
   ]
  },
  {
   "cell_type": "code",
   "execution_count": 3,
   "id": "7ebd4cbf-987b-4c3f-9633-38945ddaf9f6",
   "metadata": {},
   "outputs": [],
   "source": [
    "# Create curve loop and surface\n",
    "loop = gmsh.model.geo.addCurveLoop([1,2,3,4])\n",
    "surface = gmsh.model.geo.addPlaneSurface([loop])\n",
    "\n",
    "# Apply transfinite constraints on curves\n",
    "gmsh.model.geo.mesh.setTransfiniteCurve(1,50)\n",
    "gmsh.model.geo.mesh.setTransfiniteCurve(2,25)\n",
    "gmsh.model.geo.mesh.setTransfiniteCurve(3,50)\n",
    "gmsh.model.geo.mesh.setTransfiniteCurve(4,25)\n",
    "\n",
    "gmsh.model.geo.synchronize()\n"
   ]
  },
  {
   "cell_type": "code",
   "execution_count": 4,
   "id": "bbad0f57-9407-4424-91cd-c062124b2d96",
   "metadata": {},
   "outputs": [],
   "source": [
    "#gmsh.model.geo.mesh.setTransfiniteSurface(surface)  # Apply transfinite meshing to the new surface\n",
    "gmsh.model.geo.mesh.setTransfiniteSurface(1)  # Apply transfinite meshing to the new surface\n",
    "#gmsh.model.geo.mesh.setRecombine(2, surface)        # Recombine into quadrilateral elements\n"
   ]
  },
  {
   "cell_type": "code",
   "execution_count": 5,
   "id": "8050e3d4-77e5-4cda-9122-7e8da247472a",
   "metadata": {},
   "outputs": [],
   "source": [
    "gmsh.model.geo.synchronize()\n",
    "gmsh.model.mesh.generate(2)"
   ]
  },
  {
   "cell_type": "code",
   "execution_count": 6,
   "id": "cd6c33e1-3cf8-49e8-9c28-b45638c8c7b5",
   "metadata": {},
   "outputs": [],
   "source": [
    "\n",
    "# Save the mesh in OpenFOAM format\n",
    "gmsh.write(\"duct.msh\")\n",
    "\n",
    "# View the mesh\n",
    "gmsh.fltk.run()\n",
    "\n",
    "# Finalize Gmsh\n",
    "gmsh.finalize()"
   ]
  }
 ],
 "metadata": {
  "kernelspec": {
   "display_name": "Python 3 (ipykernel)",
   "language": "python",
   "name": "python3"
  },
  "language_info": {
   "codemirror_mode": {
    "name": "ipython",
    "version": 3
   },
   "file_extension": ".py",
   "mimetype": "text/x-python",
   "name": "python",
   "nbconvert_exporter": "python",
   "pygments_lexer": "ipython3",
   "version": "3.10.14"
  }
 },
 "nbformat": 4,
 "nbformat_minor": 5
}
