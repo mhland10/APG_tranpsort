{
 "cells": [
  {
   "cell_type": "markdown",
   "id": "8828b8fc-d0e0-4e8d-8dd8-bedadf844214",
   "metadata": {},
   "source": [
    "In this notebook, we are going to mesh the inlet duct of the Patrick study CFD domain\n"
   ]
  },
  {
   "cell_type": "code",
   "execution_count": 1,
   "id": "171e91a4-a759-4fca-adac-ad8d1dd2514a",
   "metadata": {},
   "outputs": [],
   "source": [
    "import gmsh\n",
    "\n",
    "# Initialize and create the model\n",
    "gmsh.initialize()\n",
    "gmsh.model.add(\"2D_inlet_duct\")\n"
   ]
  },
  {
   "cell_type": "code",
   "execution_count": 2,
   "id": "16a94479-4e69-4eda-8fb3-2697187aa55f",
   "metadata": {},
   "outputs": [],
   "source": [
    "# Import geometry file\n",
    "file_path = r\"../Geometry/CFD Geometry - 2D Inlet Section Geometry.step\"\n",
    "gmsh.merge( file_path )\n",
    "\n",
    "# Synchronize to make sure the file is available\n",
    "gmsh.model.geo.synchronize()\n"
   ]
  },
  {
   "cell_type": "code",
   "execution_count": 3,
   "id": "87488e02-84a3-4285-92f2-be6120f59e80",
   "metadata": {},
   "outputs": [],
   "source": [
    "# Identify the surfaces from the imported STL\n",
    "entities = gmsh.model.getEntities(2)  # Get all 2D entities (surfaces)\n",
    "\n",
    "# Loop over each surface to apply the structured mesh\n",
    "for entity in entities:\n",
    "    surface_tag = entity[1]\n",
    "    \n",
    "    # Apply a transfinite meshing on the surface to structure it\n",
    "    gmsh.model.mesh.setTransfiniteSurface(surface_tag)\n",
    "    \n",
    "    # Recombine triangles into quadrilaterals for structured mesh\n",
    "    gmsh.model.mesh.setRecombine(2, surface_tag)\n"
   ]
  },
  {
   "cell_type": "code",
   "execution_count": 4,
   "id": "df05b57f-848e-4adb-9898-ee6c038d1d72",
   "metadata": {},
   "outputs": [],
   "source": [
    "# Set global mesh element size (optional, adjust if needed)\n",
    "mesh_size = 0.01  # Mesh size\n",
    "gmsh.option.setNumber(\"Mesh.CharacteristicLengthMin\", mesh_size)\n",
    "gmsh.option.setNumber(\"Mesh.CharacteristicLengthMax\", mesh_size)\n"
   ]
  },
  {
   "cell_type": "code",
   "execution_count": 5,
   "id": "79dd546e-3048-4bb0-9069-ceb4d59d5f71",
   "metadata": {},
   "outputs": [
    {
     "ename": "Exception",
     "evalue": "Surface 1 is transfinite but has 8 corners",
     "output_type": "error",
     "traceback": [
      "\u001b[1;31m---------------------------------------------------------------------------\u001b[0m",
      "\u001b[1;31mException\u001b[0m                                 Traceback (most recent call last)",
      "\u001b[1;32m~\\AppData\\Local\\Temp\\ipykernel_5636\\139995496.py\u001b[0m in \u001b[0;36m?\u001b[1;34m()\u001b[0m\n\u001b[0;32m      1\u001b[0m \u001b[1;31m# Generate the 2D mesh\u001b[0m\u001b[1;33m\u001b[0m\u001b[1;33m\u001b[0m\u001b[0m\n\u001b[1;32m----> 2\u001b[1;33m \u001b[0mgmsh\u001b[0m\u001b[1;33m.\u001b[0m\u001b[0mmodel\u001b[0m\u001b[1;33m.\u001b[0m\u001b[0mmesh\u001b[0m\u001b[1;33m.\u001b[0m\u001b[0mgenerate\u001b[0m\u001b[1;33m(\u001b[0m\u001b[1;36m2\u001b[0m\u001b[1;33m)\u001b[0m\u001b[1;33m\u001b[0m\u001b[1;33m\u001b[0m\u001b[0m\n\u001b[0m",
      "\u001b[1;32m~\\.conda\\envs\\davinci\\lib\\site-packages\\gmsh.py\u001b[0m in \u001b[0;36m?\u001b[1;34m(dim)\u001b[0m\n\u001b[0;32m   2042\u001b[0m             lib.gmshModelMeshGenerate(\n\u001b[0;32m   2043\u001b[0m                 \u001b[0mc_int\u001b[0m\u001b[1;33m(\u001b[0m\u001b[0mdim\u001b[0m\u001b[1;33m)\u001b[0m\u001b[1;33m,\u001b[0m\u001b[1;33m\u001b[0m\u001b[1;33m\u001b[0m\u001b[0m\n\u001b[0;32m   2044\u001b[0m                 byref(ierr))\n\u001b[0;32m   2045\u001b[0m             \u001b[1;32mif\u001b[0m \u001b[0mierr\u001b[0m\u001b[1;33m.\u001b[0m\u001b[0mvalue\u001b[0m \u001b[1;33m!=\u001b[0m \u001b[1;36m0\u001b[0m\u001b[1;33m:\u001b[0m\u001b[1;33m\u001b[0m\u001b[1;33m\u001b[0m\u001b[0m\n\u001b[1;32m-> 2046\u001b[1;33m                 \u001b[1;32mraise\u001b[0m \u001b[0mException\u001b[0m\u001b[1;33m(\u001b[0m\u001b[0mlogger\u001b[0m\u001b[1;33m.\u001b[0m\u001b[0mgetLastError\u001b[0m\u001b[1;33m(\u001b[0m\u001b[1;33m)\u001b[0m\u001b[1;33m)\u001b[0m\u001b[1;33m\u001b[0m\u001b[1;33m\u001b[0m\u001b[0m\n\u001b[0m",
      "\u001b[1;31mException\u001b[0m: Surface 1 is transfinite but has 8 corners"
     ]
    }
   ],
   "source": [
    "# Generate the 2D mesh\n",
    "gmsh.model.mesh.generate(2)\n"
   ]
  },
  {
   "cell_type": "code",
   "execution_count": null,
   "id": "3b26fce4-d3cb-42fe-a895-57c982b57192",
   "metadata": {},
   "outputs": [],
   "source": [
    "# Save the mesh to a file\n",
    "gmsh.write(\"2D_duct_mesh.msh\")\n",
    "gmsh.write(\"2D_duct_mesh.vtk\")\n",
    "\n",
    "# Launch the Gmsh GUI with the mesh loaded\n",
    "gmsh.fltk.run()  # This line opens the Gmsh GUI\n",
    "\n",
    "# Finalize gmsh\n",
    "gmsh.finalize()\n"
   ]
  },
  {
   "cell_type": "code",
   "execution_count": null,
   "id": "b12a7434-a1a9-4aa4-885c-84ac3ec2829c",
   "metadata": {},
   "outputs": [],
   "source": []
  }
 ],
 "metadata": {
  "kernelspec": {
   "display_name": "Python 3 (ipykernel)",
   "language": "python",
   "name": "python3"
  },
  "language_info": {
   "codemirror_mode": {
    "name": "ipython",
    "version": 3
   },
   "file_extension": ".py",
   "mimetype": "text/x-python",
   "name": "python",
   "nbconvert_exporter": "python",
   "pygments_lexer": "ipython3",
   "version": "3.10.14"
  }
 },
 "nbformat": 4,
 "nbformat_minor": 5
}
