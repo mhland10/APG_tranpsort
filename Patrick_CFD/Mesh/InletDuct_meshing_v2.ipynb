{
 "cells": [
  {
   "cell_type": "code",
   "execution_count": 1,
   "id": "d1d7aea5-b1ea-4a3a-bb61-a81acc7aa96b",
   "metadata": {},
   "outputs": [],
   "source": [
    "import gmsh\n",
    "\n",
    "# Initialize gmsh\n",
    "gmsh.initialize()\n",
    "\n",
    "# Create a new model\n",
    "gmsh.model.add(\"Duct_With_Trip\")\n",
    "\n"
   ]
  },
  {
   "cell_type": "code",
   "execution_count": 2,
   "id": "cacb3380-89da-4348-9eb8-a9ff1b38b49a",
   "metadata": {},
   "outputs": [],
   "source": [
    "# Import geometry file\n",
    "file_path = r\"../Geometry/CFD Geometry - 2D Inlet Section Geometry.step\"\n",
    "gmsh.merge( file_path )\n",
    "\n",
    "# Synchronize the geometry\n",
    "gmsh.model.geo.synchronize()\n",
    "\n",
    "# Get all surfaces (2D entities) in the model\n",
    "surfaces = gmsh.model.getEntities(2)\n"
   ]
  },
  {
   "cell_type": "code",
   "execution_count": 3,
   "id": "5c9a5278-ea2b-40b0-a143-136db9636b26",
   "metadata": {},
   "outputs": [
    {
     "name": "stdout",
     "output_type": "stream",
     "text": [
      "Skipping transfinite meshing for surface 1 with 8 corners.\n"
     ]
    }
   ],
   "source": [
    "# Loop over each surface to apply transfinite meshing where applicable\n",
    "for surface in surfaces:\n",
    "    surface_tag = surface[1]\n",
    "    \n",
    "    # Get the boundary of the surface (its edges)\n",
    "    curve_loops = gmsh.model.getBoundary([surface], oriented=False)\n",
    "    \n",
    "    # Get the number of corner points for the surface\n",
    "    num_corners = len(curve_loops)\n",
    "    \n",
    "    if num_corners == 4:\n",
    "        # Apply transfinite meshing only if the surface has 4 corners\n",
    "        gmsh.model.mesh.setTransfiniteSurface(surface_tag)\n",
    "        gmsh.model.mesh.setRecombine(2, surface_tag)\n",
    "    else:\n",
    "        print(f\"Skipping transfinite meshing for surface {surface_tag} with {num_corners} corners.\")\n",
    "\n",
    "# Set global mesh size (optional, adjust as needed)\n",
    "mesh_size = 1\n",
    "#gmsh.option.setNumber(\"Mesh.CharacteristicLengthMin\", mesh_size)\n",
    "gmsh.option.setNumber(\"Mesh.CharacteristicLengthMax\", mesh_size)\n"
   ]
  },
  {
   "cell_type": "code",
   "execution_count": 4,
   "id": "15dc8ece-6d70-432e-b75d-8a21a9afc72b",
   "metadata": {},
   "outputs": [],
   "source": [
    "# Generate the 2D mesh\n",
    "gmsh.model.mesh.generate(2)\n"
   ]
  },
  {
   "cell_type": "code",
   "execution_count": null,
   "id": "8c263810-91e4-4059-9020-732ceb2fbbe7",
   "metadata": {},
   "outputs": [],
   "source": [
    "# Save the mesh\n",
    "gmsh.write(\"Duct_with_trip_mesh.msh\")\n",
    "\n",
    "# Optionally, launch the Gmsh GUI to view the mesh\n",
    "gmsh.fltk.run()\n",
    "\n",
    "# Finalize gmsh\n",
    "gmsh.finalize()"
   ]
  }
 ],
 "metadata": {
  "kernelspec": {
   "display_name": "Python 3 (ipykernel)",
   "language": "python",
   "name": "python3"
  },
  "language_info": {
   "codemirror_mode": {
    "name": "ipython",
    "version": 3
   },
   "file_extension": ".py",
   "mimetype": "text/x-python",
   "name": "python",
   "nbconvert_exporter": "python",
   "pygments_lexer": "ipython3",
   "version": "3.10.14"
  }
 },
 "nbformat": 4,
 "nbformat_minor": 5
}
